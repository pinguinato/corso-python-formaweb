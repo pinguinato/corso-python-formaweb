{
 "cells": [
  {
   "cell_type": "markdown",
   "metadata": {},
   "source": [
    "# Espressioni Regolari"
   ]
  },
  {
   "cell_type": "markdown",
   "metadata": {},
   "source": [
    "Riferimenti: https://www.python.it/doc/howto/Regex/regex-it/regex-it.html"
   ]
  },
  {
   "cell_type": "code",
   "execution_count": 2,
   "metadata": {},
   "outputs": [],
   "source": [
    "# importa il pacchetto per operare con le regular expression\n",
    "import re"
   ]
  },
  {
   "cell_type": "markdown",
   "metadata": {},
   "source": [
    "Spesso l'operazione di scraping delle pagine web non è molto agevole, per via del codice html all'interno delle pagine web, ci vengono in aiuto le espressioni regolari, però per poterle usare al meglio è indispensabile capire come il sito è strutturato dal punto di vista html in modo da poter individuare un **PATTERN** che si ripete, che possiamo richiamare con le formule delle espressioni regolari."
   ]
  },
  {
   "cell_type": "markdown",
   "metadata": {},
   "source": [
    "Ad esempio abbiamo anche il metodo **split()** che vuole in input una stringa e ritorna una lista, il metodo split si può annidare, può essere usato una invocazione dopo l'altra"
   ]
  },
  {
   "cell_type": "markdown",
   "metadata": {},
   "source": [
    "### La funzione sub()"
   ]
  },
  {
   "cell_type": "markdown",
   "metadata": {},
   "source": [
    "è un metodo del modulo **re** e vuole come parametro tra i suoi parametri una espresisone regolare."
   ]
  },
  {
   "cell_type": "markdown",
   "metadata": {},
   "source": [
    "### Beautiful Soup\n",
    "\n",
    "Nella versione 4 è utilizzato sempre con **requests** (import requests)"
   ]
  },
  {
   "cell_type": "code",
   "execution_count": 3,
   "metadata": {},
   "outputs": [],
   "source": [
    "from bs4 import BeautifulSoup\n",
    "import requests"
   ]
  },
  {
   "cell_type": "markdown",
   "metadata": {},
   "source": [
    "**Quantizzazione**: la faccio facendo il join per ricavare le posizioni delle canzoni, mi trovo una posizione quantizzata\n",
    "\n",
    "Compito: esercitarsi sul notebook dei Led Zeppelin"
   ]
  },
  {
   "cell_type": "markdown",
   "metadata": {},
   "source": [
    "### Seaborn \n",
    "\n",
    "è un pacchetto molto più avanzato di matplotlib, importante: leggere capitolo 9 del libro di McKinney"
   ]
  },
  {
   "cell_type": "markdown",
   "metadata": {},
   "source": [
    "Scatterplot: tipo di plot molto utile per mettere in considerazione due grandezze"
   ]
  },
  {
   "cell_type": "markdown",
   "metadata": {},
   "source": [
    "Boxplots: altro grafico molto usato in statistica, vedere https://seaborn.pydata.org/generated/seaborn.boxplot.html\n",
    "e https://upload.wikimedia.org/wikipedia/commons/1/1a/Boxplot_vs_PDF.svg"
   ]
  },
  {
   "cell_type": "markdown",
   "metadata": {},
   "source": [
    "Diagramma a violino"
   ]
  },
  {
   "cell_type": "markdown",
   "metadata": {},
   "source": [
    "### Compito Bundesliga\n",
    "\n",
    "Prendiamo come riferimento dal 91-92 fino al campionato 2019-2020\n",
    "\n",
    "Ci interessa capire come si può studiare l'evoluzione economica e la disparità economica quando è stata unita la Germania e e se si può spiegare in termini sportivi."
   ]
  },
  {
   "cell_type": "markdown",
   "metadata": {},
   "source": [
    "Ci potrebbe essere una relazione tra la posizione nella league table finale e la regioen di appartenenza della squadra. Come facciamo a determinare la regioen di appartenenza della squadra? Prima di tutto dobbiamo raccogliere dei dati di tipo geografico. In questo modo dato una squadra possiamo risalire alla sua città e alla sua regione e poi a questo punto abbiamo un dato categorico (est/ovest) sul quale ragionare. O appartiene all'est o appartiene all'ovest. Poi per ognuno di queste stagioni che si possono ritrovare su wikpedia in inglese, dobbiamo andare ad analizzare di ogni edizione la tabella **league table** e mettiamo in relazione la posizione con l'appartenenza alla categoria est/ovest.\n",
    "Per ogni edizione mi piacerebbe capire avere delle statistiche circa i capocannonieri di una regione dell'est e di una dell'ovest, oppure fare un ragionamento sulle regioni, sapere quale èstato il numero massimo delle regioni dell'est o dell'ovest per ogni stagione. In questo esercizio la maggior parte dei dati viene presa con il metodo read_html.\n"
   ]
  },
  {
   "cell_type": "markdown",
   "metadata": {},
   "source": [
    "https://fcpython.com/scraping/introduction-scraping-data-transfermarkt"
   ]
  },
  {
   "cell_type": "markdown",
   "metadata": {},
   "source": [
    "Compito: partire dalla pagina inglese della germania est e vedere quali sono le regioni della DDR https://en.wikipedia.org/wiki/East_Germany"
   ]
  },
  {
   "cell_type": "markdown",
   "metadata": {},
   "source": [
    "Bisogna fare anche una normalizzazione perché gli stati della Germania Est sono di meno della Germania Ovest."
   ]
  },
  {
   "cell_type": "code",
   "execution_count": null,
   "metadata": {},
   "outputs": [],
   "source": []
  }
 ],
 "metadata": {
  "kernelspec": {
   "display_name": "Python 3",
   "language": "python",
   "name": "python3"
  },
  "language_info": {
   "codemirror_mode": {
    "name": "ipython",
    "version": 3
   },
   "file_extension": ".py",
   "mimetype": "text/x-python",
   "name": "python",
   "nbconvert_exporter": "python",
   "pygments_lexer": "ipython3",
   "version": "3.8.6"
  }
 },
 "nbformat": 4,
 "nbformat_minor": 4
}
