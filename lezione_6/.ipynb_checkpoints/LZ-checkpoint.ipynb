{
 "cells": [
  {
   "cell_type": "markdown",
   "metadata": {},
   "source": [
    "## Esercitaz su scraping e statistica descrittiva"
   ]
  },
  {
   "cell_type": "markdown",
   "metadata": {},
   "source": [
    "In Python 3 lo standard per lo scraping (prelievo delle info da un sito web) è dato dai pacchetti requests e BeautifulSoup4 (bs4). Essi devono essere usati quando il metodo read_html di Pandas (invocato direttamente su un indirizzo web per prelevare tabelle) fallisce."
   ]
  },
  {
   "cell_type": "markdown",
   "metadata": {},
   "source": [
    "In questo esempio usiamo requests+bs4 per prendere i testi delle canzoni. Essi possono dare luogo a una serie di analisi interessanti, es. parole più usate, testo più lungo, ripetizioni, e così via. Valutate anche la possibilità di accedere ai link su Wikipedia dei singoli album in studio e rilevare alcuni dati quali la lunghezza dei brani, per il report.\n",
    "\n",
    "- tutorial su requests+bs4:\n",
    "https://www.digitalocean.com/community/tutorials/how-to-scrape-web-pages-with-beautiful-soup-and-python-3\n",
    "\n",
    "Aggiungo anche una traccia per cominciare nel blocco di codice seguente"
   ]
  },
  {
   "cell_type": "code",
   "execution_count": 29,
   "metadata": {},
   "outputs": [
    {
     "name": "stdout",
     "output_type": "stream",
     "text": [
      "ledzeppelin\n"
     ]
    }
   ],
   "source": [
    "import pandas as pd\n",
    "import requests\n",
    "from bs4 import BeautifulSoup\n",
    "\n",
    "\n",
    "# canzoni = pd.read_html(\"https://en.wikipedia.org/wiki/List_of_songs_recorded_by_Led_Zeppelin\")\n",
    "# band = pd.read_html(\"https://en.wikipedia.org/wiki/Led_Zeppelin\")\n",
    "# discografia = pd.read_html(\"https://en.wikipedia.org/wiki/Led_Zeppelin_discography\")\n",
    "#print(len(canzoni))\n",
    "#print(len(band))\n",
    "#print(len(discografia))\n",
    "\n",
    "artista = \"Led Zeppelin\"\n",
    "artista_norm = artista.strip().replace(\" \",\"\").lower()\n",
    "print(artista_norm)    "
   ]
  },
  {
   "cell_type": "code",
   "execution_count": 30,
   "metadata": {},
   "outputs": [],
   "source": [
    "rootstr = \"https://www.azlyrics.com/\"\n",
    "page = requests.get(rootstr+artista_norm[0]+\"/\"+artista_norm+\".html\")\n",
    "soup = BeautifulSoup(page.text, 'html.parser')"
   ]
  },
  {
   "cell_type": "markdown",
   "metadata": {},
   "source": [
    "Si possono usare direttamente i div:"
   ]
  },
  {
   "cell_type": "code",
   "execution_count": 31,
   "metadata": {},
   "outputs": [],
   "source": [
    "#albumDivs = soup.findAll('div', {'class': 'album'})\n",
    "#print(albumDivs[0].position)\n",
    "#for albumDiv in albumDivs:\n",
    "#    print(albumDiv.text)"
   ]
  },
  {
   "cell_type": "code",
   "execution_count": 32,
   "metadata": {},
   "outputs": [],
   "source": [
    "#childrenDivs = soup.findAll('div', {'class': 'listalbum-item'})\n",
    "#for childDiv in childrenDivs:\n",
    "#    print(childDiv.text)"
   ]
  },
  {
   "cell_type": "code",
   "execution_count": 33,
   "metadata": {},
   "outputs": [],
   "source": [
    "dfdisco = pd.DataFrame(columns=[\"album\",\"posizione\"])\n",
    "\n",
    "dfcanzoni = pd.DataFrame(columns=[\"titolo\",\"link\",\"posizione\"])\n",
    "\n",
    "albums = soup.body.findAll('b')\n",
    "for album in albums:\n",
    "    try:\n",
    "        indinizio = int(dfdisco.tail(1)['posizione'])\n",
    "    except:\n",
    "        indinizio = 0\n",
    "    dfdisco = dfdisco.append({'album': album.text, 'posizione': int(str(soup.body).find(album.text, indinizio))},ignore_index=True)\n",
    "\n",
    "\n",
    "for link in soup.body.findAll('a'):\n",
    "    if '/lyrics/'+artista_norm+'/' in str(link.get('href')):\n",
    "        try:\n",
    "            indinizio = int(dfcanzoni.tail(1)['posizione'])\n",
    "        except:\n",
    "            indinizio = 0\n",
    "        dfcanzoni = dfcanzoni.append({'titolo': link.string, 'link': link.get('href'), 'posizione': int(str(soup.body).find(link.text, indinizio))},ignore_index=True)"
   ]
  },
  {
   "cell_type": "markdown",
   "metadata": {},
   "source": [
    "Come fare il merge dei due df?"
   ]
  },
  {
   "cell_type": "code",
   "execution_count": 34,
   "metadata": {},
   "outputs": [
    {
     "name": "stdout",
     "output_type": "stream",
     "text": [
      "5595\n",
      "6712\n",
      "7799\n",
      "9298\n",
      "10361\n",
      "11399\n",
      "13148\n",
      "14078\n",
      "14985\n",
      "17142\n"
     ]
    }
   ],
   "source": [
    "\n",
    "for posizione in dfdisco['posizione']:\n",
    "    \n",
    "    print(posizione)"
   ]
  },
  {
   "cell_type": "code",
   "execution_count": 35,
   "metadata": {},
   "outputs": [
    {
     "name": "stdout",
     "output_type": "stream",
     "text": [
      "5728\n",
      "5860\n",
      "5988\n",
      "6109\n",
      "6239\n",
      "6377\n",
      "6514\n",
      "6644\n",
      "6843\n",
      "6978\n",
      "7115\n",
      "7230\n",
      "7344\n",
      "7479\n",
      "7619\n",
      "7734\n",
      "7930\n",
      "8044\n",
      "8158\n",
      "8287\n",
      "8419\n",
      "8539\n",
      "8653\n",
      "8766\n",
      "8886\n",
      "9013\n",
      "9158\n",
      "9423\n",
      "9536\n",
      "9661\n",
      "9792\n",
      "9919\n",
      "10040\n",
      "10161\n",
      "10291\n",
      "10502\n",
      "10631\n",
      "10759\n",
      "10888\n",
      "11002\n",
      "11116\n",
      "11230\n",
      "11341\n",
      "11528\n",
      "11640\n",
      "11757\n",
      "11884\n",
      "12012\n",
      "12131\n",
      "12241\n",
      "12362\n",
      "12486\n",
      "12604\n",
      "12722\n",
      "12843\n",
      "12968\n",
      "13089\n",
      "13275\n",
      "13399\n",
      "13517\n",
      "13642\n",
      "13772\n",
      "13897\n",
      "14018\n",
      "14215\n",
      "14338\n",
      "14462\n",
      "14577\n",
      "14690\n",
      "14805\n",
      "14921\n",
      "15106\n",
      "15224\n",
      "15341\n",
      "15466\n",
      "15581\n",
      "15691\n",
      "15808\n",
      "15934\n",
      "16176\n",
      "16418\n",
      "16665\n",
      "16853\n",
      "17032\n",
      "17270\n",
      "17401\n",
      "17543\n"
     ]
    }
   ],
   "source": [
    "for posizione in dfcanzoni['posizione']:\n",
    "    \n",
    "    print(posizione)"
   ]
  },
  {
   "cell_type": "code",
   "execution_count": 36,
   "metadata": {},
   "outputs": [],
   "source": [
    "def quantize(val, to_values):\n",
    "    result = 0\n",
    "    for index, other_val in enumerate(to_values):\n",
    "        #print(str(index)+\" \"+\" \"+str(val)+\" \"+str(other_val))\n",
    "        if (val> other_val):\n",
    "            \n",
    "            result = other_val\n",
    "    return result\n",
    "    \n"
   ]
  },
  {
   "cell_type": "code",
   "execution_count": 37,
   "metadata": {},
   "outputs": [],
   "source": [
    "for posizione in dfcanzoni['posizione']:\n",
    "    posizioneq = quantize(posizione, dfdisco['posizione'])\n",
    "    dfcanzoni = dfcanzoni.replace(posizione, posizioneq)\n",
    "    "
   ]
  },
  {
   "cell_type": "code",
   "execution_count": 38,
   "metadata": {},
   "outputs": [
    {
     "name": "stdout",
     "output_type": "stream",
     "text": [
      "5595\n",
      "5595\n",
      "5595\n",
      "5595\n",
      "5595\n",
      "5595\n",
      "5595\n",
      "5595\n",
      "6712\n",
      "6712\n",
      "6712\n",
      "6712\n",
      "6712\n",
      "6712\n",
      "6712\n",
      "6712\n",
      "7799\n",
      "7799\n",
      "7799\n",
      "7799\n",
      "7799\n",
      "7799\n",
      "7799\n",
      "7799\n",
      "7799\n",
      "7799\n",
      "7799\n",
      "9298\n",
      "9298\n",
      "9298\n",
      "9298\n",
      "9298\n",
      "9298\n",
      "9298\n",
      "9298\n",
      "10361\n",
      "10361\n",
      "10361\n",
      "10361\n",
      "10361\n",
      "10361\n",
      "10361\n",
      "10361\n",
      "11399\n",
      "11399\n",
      "11399\n",
      "11399\n",
      "11399\n",
      "11399\n",
      "11399\n",
      "11399\n",
      "11399\n",
      "11399\n",
      "11399\n",
      "11399\n",
      "11399\n",
      "11399\n",
      "13148\n",
      "13148\n",
      "13148\n",
      "13148\n",
      "13148\n",
      "13148\n",
      "13148\n",
      "14078\n",
      "14078\n",
      "14078\n",
      "14078\n",
      "14078\n",
      "14078\n",
      "14078\n",
      "14985\n",
      "14985\n",
      "14985\n",
      "14985\n",
      "14985\n",
      "14985\n",
      "14985\n",
      "14985\n",
      "14985\n",
      "14985\n",
      "14985\n",
      "14985\n",
      "14985\n",
      "17142\n",
      "17142\n",
      "17142\n"
     ]
    }
   ],
   "source": [
    "for posizione in dfcanzoni['posizione']:\n",
    "    \n",
    "    print(posizione)"
   ]
  },
  {
   "cell_type": "code",
   "execution_count": 39,
   "metadata": {},
   "outputs": [],
   "source": [
    "dftotale = pd.merge(dfdisco, dfcanzoni, on='posizione')"
   ]
  },
  {
   "cell_type": "code",
   "execution_count": 40,
   "metadata": {},
   "outputs": [
    {
     "data": {
      "text/html": [
       "<div>\n",
       "<style scoped>\n",
       "    .dataframe tbody tr th:only-of-type {\n",
       "        vertical-align: middle;\n",
       "    }\n",
       "\n",
       "    .dataframe tbody tr th {\n",
       "        vertical-align: top;\n",
       "    }\n",
       "\n",
       "    .dataframe thead th {\n",
       "        text-align: right;\n",
       "    }\n",
       "</style>\n",
       "<table border=\"1\" class=\"dataframe\">\n",
       "  <thead>\n",
       "    <tr style=\"text-align: right;\">\n",
       "      <th></th>\n",
       "      <th>album</th>\n",
       "      <th>posizione</th>\n",
       "      <th>titolo</th>\n",
       "      <th>link</th>\n",
       "    </tr>\n",
       "  </thead>\n",
       "  <tbody>\n",
       "    <tr>\n",
       "      <th>0</th>\n",
       "      <td>\"Led Zeppelin I\"</td>\n",
       "      <td>5595</td>\n",
       "      <td>Good Times Bad Times</td>\n",
       "      <td>../lyrics/ledzeppelin/goodtimesbadtimes.html</td>\n",
       "    </tr>\n",
       "    <tr>\n",
       "      <th>1</th>\n",
       "      <td>\"Led Zeppelin I\"</td>\n",
       "      <td>5595</td>\n",
       "      <td>Babe, I'm Gonna Leave You</td>\n",
       "      <td>../lyrics/ledzeppelin/babeimgonnaleaveyou.html</td>\n",
       "    </tr>\n",
       "    <tr>\n",
       "      <th>2</th>\n",
       "      <td>\"Led Zeppelin I\"</td>\n",
       "      <td>5595</td>\n",
       "      <td>You Shook Me</td>\n",
       "      <td>../lyrics/ledzeppelin/youshookme.html</td>\n",
       "    </tr>\n",
       "    <tr>\n",
       "      <th>3</th>\n",
       "      <td>\"Led Zeppelin I\"</td>\n",
       "      <td>5595</td>\n",
       "      <td>Dazed And Confused</td>\n",
       "      <td>../lyrics/ledzeppelin/dazedandconfused.html</td>\n",
       "    </tr>\n",
       "    <tr>\n",
       "      <th>4</th>\n",
       "      <td>\"Led Zeppelin I\"</td>\n",
       "      <td>5595</td>\n",
       "      <td>Your Time Is Gonna Come</td>\n",
       "      <td>../lyrics/ledzeppelin/yourtimeisgonnacome.html</td>\n",
       "    </tr>\n",
       "    <tr>\n",
       "      <th>...</th>\n",
       "      <td>...</td>\n",
       "      <td>...</td>\n",
       "      <td>...</td>\n",
       "      <td>...</td>\n",
       "    </tr>\n",
       "    <tr>\n",
       "      <th>82</th>\n",
       "      <td>\"Coda\"</td>\n",
       "      <td>14985</td>\n",
       "      <td>Sugar Mama (Mix)</td>\n",
       "      <td>../lyrics/ledzeppelin/sugarmamamix.html</td>\n",
       "    </tr>\n",
       "    <tr>\n",
       "      <th>83</th>\n",
       "      <td>\"Coda\"</td>\n",
       "      <td>14985</td>\n",
       "      <td>Bring It On Home (Rough Mix)</td>\n",
       "      <td>../lyrics/ledzeppelin/bringitonhomeroughmix.html</td>\n",
       "    </tr>\n",
       "    <tr>\n",
       "      <th>84</th>\n",
       "      <td>other songs:</td>\n",
       "      <td>17142</td>\n",
       "      <td>Everybody Makes It Through</td>\n",
       "      <td>../lyrics/ledzeppelin/everybodymakesitthrough....</td>\n",
       "    </tr>\n",
       "    <tr>\n",
       "      <th>85</th>\n",
       "      <td>other songs:</td>\n",
       "      <td>17142</td>\n",
       "      <td>Somethin' Else</td>\n",
       "      <td>../lyrics/ledzeppelin/somethinelse.html</td>\n",
       "    </tr>\n",
       "    <tr>\n",
       "      <th>86</th>\n",
       "      <td>other songs:</td>\n",
       "      <td>17142</td>\n",
       "      <td>The Girl I Love She Got Long Black Wavy Hair</td>\n",
       "      <td>../lyrics/ledzeppelin/thegirliloveshegotlongbl...</td>\n",
       "    </tr>\n",
       "  </tbody>\n",
       "</table>\n",
       "<p>87 rows × 4 columns</p>\n",
       "</div>"
      ],
      "text/plain": [
       "               album posizione                                        titolo  \\\n",
       "0   \"Led Zeppelin I\"      5595                          Good Times Bad Times   \n",
       "1   \"Led Zeppelin I\"      5595                     Babe, I'm Gonna Leave You   \n",
       "2   \"Led Zeppelin I\"      5595                                  You Shook Me   \n",
       "3   \"Led Zeppelin I\"      5595                            Dazed And Confused   \n",
       "4   \"Led Zeppelin I\"      5595                       Your Time Is Gonna Come   \n",
       "..               ...       ...                                           ...   \n",
       "82            \"Coda\"     14985                              Sugar Mama (Mix)   \n",
       "83            \"Coda\"     14985                  Bring It On Home (Rough Mix)   \n",
       "84      other songs:     17142                    Everybody Makes It Through   \n",
       "85      other songs:     17142                                Somethin' Else   \n",
       "86      other songs:     17142  The Girl I Love She Got Long Black Wavy Hair   \n",
       "\n",
       "                                                 link  \n",
       "0        ../lyrics/ledzeppelin/goodtimesbadtimes.html  \n",
       "1      ../lyrics/ledzeppelin/babeimgonnaleaveyou.html  \n",
       "2               ../lyrics/ledzeppelin/youshookme.html  \n",
       "3         ../lyrics/ledzeppelin/dazedandconfused.html  \n",
       "4      ../lyrics/ledzeppelin/yourtimeisgonnacome.html  \n",
       "..                                                ...  \n",
       "82            ../lyrics/ledzeppelin/sugarmamamix.html  \n",
       "83   ../lyrics/ledzeppelin/bringitonhomeroughmix.html  \n",
       "84  ../lyrics/ledzeppelin/everybodymakesitthrough....  \n",
       "85            ../lyrics/ledzeppelin/somethinelse.html  \n",
       "86  ../lyrics/ledzeppelin/thegirliloveshegotlongbl...  \n",
       "\n",
       "[87 rows x 4 columns]"
      ]
     },
     "execution_count": 40,
     "metadata": {},
     "output_type": "execute_result"
    }
   ],
   "source": [
    "dftotale"
   ]
  },
  {
   "cell_type": "code",
   "execution_count": 41,
   "metadata": {},
   "outputs": [],
   "source": [
    "for link in dftotale['link']:\n",
    "    linkq = link.replace(\"../\",rootstr)\n",
    "    dftotale = dftotale.replace(link, linkq)\n"
   ]
  },
  {
   "cell_type": "code",
   "execution_count": 42,
   "metadata": {},
   "outputs": [],
   "source": [
    "listaappoggio = []\n",
    "for link in dftotale['link']:\n",
    "    pagetext = requests.get(link)\n",
    "    souptext = BeautifulSoup(pagetext.text, 'html.parser')\n",
    "    listaappoggio.append(str(souptext.body))\n",
    "dftotale['testo']=listaappoggio"
   ]
  },
  {
   "cell_type": "code",
   "execution_count": 43,
   "metadata": {},
   "outputs": [],
   "source": [
    "dftotale.to_csv('dftotale.csv')"
   ]
  },
  {
   "cell_type": "code",
   "execution_count": null,
   "metadata": {},
   "outputs": [],
   "source": []
  },
  {
   "cell_type": "code",
   "execution_count": null,
   "metadata": {},
   "outputs": [],
   "source": []
  },
  {
   "cell_type": "code",
   "execution_count": null,
   "metadata": {},
   "outputs": [],
   "source": []
  },
  {
   "cell_type": "code",
   "execution_count": null,
   "metadata": {},
   "outputs": [],
   "source": []
  },
  {
   "cell_type": "code",
   "execution_count": null,
   "metadata": {},
   "outputs": [],
   "source": []
  }
 ],
 "metadata": {
  "kernelspec": {
   "display_name": "Python 3",
   "language": "python",
   "name": "python3"
  },
  "language_info": {
   "codemirror_mode": {
    "name": "ipython",
    "version": 3
   },
   "file_extension": ".py",
   "mimetype": "text/x-python",
   "name": "python",
   "nbconvert_exporter": "python",
   "pygments_lexer": "ipython3",
   "version": "3.8.2"
  }
 },
 "nbformat": 4,
 "nbformat_minor": 4
}
