{
 "cells": [
  {
   "cell_type": "code",
   "execution_count": 1,
   "metadata": {},
   "outputs": [],
   "source": [
    "import pandas as pd\n",
    "import numpy as np\n",
    "import matplotlib.pyplot as plt\n",
    "import seaborn as sns\n"
   ]
  },
  {
   "cell_type": "code",
   "execution_count": 2,
   "metadata": {},
   "outputs": [],
   "source": [
    "sales_dict={'colour':['Yellow','Black','Blue','Red','Yellow','Black','Blue',\n",
    "                      'Red','Yellow','Black','Blue','Red','Yellow','Black','Blue','Red','Blue','Red'],\n",
    "           'sales':[100000,150000,80000,90000,200000,145000,120000,\n",
    "                    300000,250000,200000,160000,90000,90100,150000,142000,130000,400000,350000],\n",
    "          'transactions':[100,150,820,920,230,120,70,250,250,110,130,860,980,300,150,170,230,280],\n",
    "           'product':['type A','type A','type A','type A','type A','type A','type A',\n",
    "                      'type A','type A','type B','type B','type B','type B','type B','type B','type B','type B','type B']}"
   ]
  },
  {
   "cell_type": "code",
   "execution_count": 3,
   "metadata": {},
   "outputs": [
    {
     "data": {
      "text/plain": [
       "{'colour': ['Yellow',\n",
       "  'Black',\n",
       "  'Blue',\n",
       "  'Red',\n",
       "  'Yellow',\n",
       "  'Black',\n",
       "  'Blue',\n",
       "  'Red',\n",
       "  'Yellow',\n",
       "  'Black',\n",
       "  'Blue',\n",
       "  'Red',\n",
       "  'Yellow',\n",
       "  'Black',\n",
       "  'Blue',\n",
       "  'Red',\n",
       "  'Blue',\n",
       "  'Red'],\n",
       " 'sales': [100000,\n",
       "  150000,\n",
       "  80000,\n",
       "  90000,\n",
       "  200000,\n",
       "  145000,\n",
       "  120000,\n",
       "  300000,\n",
       "  250000,\n",
       "  200000,\n",
       "  160000,\n",
       "  90000,\n",
       "  90100,\n",
       "  150000,\n",
       "  142000,\n",
       "  130000,\n",
       "  400000,\n",
       "  350000],\n",
       " 'transactions': [100,\n",
       "  150,\n",
       "  820,\n",
       "  920,\n",
       "  230,\n",
       "  120,\n",
       "  70,\n",
       "  250,\n",
       "  250,\n",
       "  110,\n",
       "  130,\n",
       "  860,\n",
       "  980,\n",
       "  300,\n",
       "  150,\n",
       "  170,\n",
       "  230,\n",
       "  280],\n",
       " 'product': ['type A',\n",
       "  'type A',\n",
       "  'type A',\n",
       "  'type A',\n",
       "  'type A',\n",
       "  'type A',\n",
       "  'type A',\n",
       "  'type A',\n",
       "  'type A',\n",
       "  'type B',\n",
       "  'type B',\n",
       "  'type B',\n",
       "  'type B',\n",
       "  'type B',\n",
       "  'type B',\n",
       "  'type B',\n",
       "  'type B',\n",
       "  'type B']}"
      ]
     },
     "execution_count": 3,
     "metadata": {},
     "output_type": "execute_result"
    }
   ],
   "source": [
    "sales_dict"
   ]
  },
  {
   "cell_type": "code",
   "execution_count": 4,
   "metadata": {},
   "outputs": [],
   "source": [
    "data_sales=pd.DataFrame(sales_dict)"
   ]
  },
  {
   "cell_type": "code",
   "execution_count": 5,
   "metadata": {},
   "outputs": [
    {
     "data": {
      "text/html": [
       "<div>\n",
       "<style scoped>\n",
       "    .dataframe tbody tr th:only-of-type {\n",
       "        vertical-align: middle;\n",
       "    }\n",
       "\n",
       "    .dataframe tbody tr th {\n",
       "        vertical-align: top;\n",
       "    }\n",
       "\n",
       "    .dataframe thead th {\n",
       "        text-align: right;\n",
       "    }\n",
       "</style>\n",
       "<table border=\"1\" class=\"dataframe\">\n",
       "  <thead>\n",
       "    <tr style=\"text-align: right;\">\n",
       "      <th></th>\n",
       "      <th>colour</th>\n",
       "      <th>sales</th>\n",
       "      <th>transactions</th>\n",
       "      <th>product</th>\n",
       "    </tr>\n",
       "  </thead>\n",
       "  <tbody>\n",
       "    <tr>\n",
       "      <th>0</th>\n",
       "      <td>Yellow</td>\n",
       "      <td>100000</td>\n",
       "      <td>100</td>\n",
       "      <td>type A</td>\n",
       "    </tr>\n",
       "    <tr>\n",
       "      <th>1</th>\n",
       "      <td>Black</td>\n",
       "      <td>150000</td>\n",
       "      <td>150</td>\n",
       "      <td>type A</td>\n",
       "    </tr>\n",
       "    <tr>\n",
       "      <th>2</th>\n",
       "      <td>Blue</td>\n",
       "      <td>80000</td>\n",
       "      <td>820</td>\n",
       "      <td>type A</td>\n",
       "    </tr>\n",
       "    <tr>\n",
       "      <th>3</th>\n",
       "      <td>Red</td>\n",
       "      <td>90000</td>\n",
       "      <td>920</td>\n",
       "      <td>type A</td>\n",
       "    </tr>\n",
       "    <tr>\n",
       "      <th>4</th>\n",
       "      <td>Yellow</td>\n",
       "      <td>200000</td>\n",
       "      <td>230</td>\n",
       "      <td>type A</td>\n",
       "    </tr>\n",
       "    <tr>\n",
       "      <th>5</th>\n",
       "      <td>Black</td>\n",
       "      <td>145000</td>\n",
       "      <td>120</td>\n",
       "      <td>type A</td>\n",
       "    </tr>\n",
       "    <tr>\n",
       "      <th>6</th>\n",
       "      <td>Blue</td>\n",
       "      <td>120000</td>\n",
       "      <td>70</td>\n",
       "      <td>type A</td>\n",
       "    </tr>\n",
       "    <tr>\n",
       "      <th>7</th>\n",
       "      <td>Red</td>\n",
       "      <td>300000</td>\n",
       "      <td>250</td>\n",
       "      <td>type A</td>\n",
       "    </tr>\n",
       "    <tr>\n",
       "      <th>8</th>\n",
       "      <td>Yellow</td>\n",
       "      <td>250000</td>\n",
       "      <td>250</td>\n",
       "      <td>type A</td>\n",
       "    </tr>\n",
       "    <tr>\n",
       "      <th>9</th>\n",
       "      <td>Black</td>\n",
       "      <td>200000</td>\n",
       "      <td>110</td>\n",
       "      <td>type B</td>\n",
       "    </tr>\n",
       "    <tr>\n",
       "      <th>10</th>\n",
       "      <td>Blue</td>\n",
       "      <td>160000</td>\n",
       "      <td>130</td>\n",
       "      <td>type B</td>\n",
       "    </tr>\n",
       "    <tr>\n",
       "      <th>11</th>\n",
       "      <td>Red</td>\n",
       "      <td>90000</td>\n",
       "      <td>860</td>\n",
       "      <td>type B</td>\n",
       "    </tr>\n",
       "    <tr>\n",
       "      <th>12</th>\n",
       "      <td>Yellow</td>\n",
       "      <td>90100</td>\n",
       "      <td>980</td>\n",
       "      <td>type B</td>\n",
       "    </tr>\n",
       "    <tr>\n",
       "      <th>13</th>\n",
       "      <td>Black</td>\n",
       "      <td>150000</td>\n",
       "      <td>300</td>\n",
       "      <td>type B</td>\n",
       "    </tr>\n",
       "    <tr>\n",
       "      <th>14</th>\n",
       "      <td>Blue</td>\n",
       "      <td>142000</td>\n",
       "      <td>150</td>\n",
       "      <td>type B</td>\n",
       "    </tr>\n",
       "    <tr>\n",
       "      <th>15</th>\n",
       "      <td>Red</td>\n",
       "      <td>130000</td>\n",
       "      <td>170</td>\n",
       "      <td>type B</td>\n",
       "    </tr>\n",
       "    <tr>\n",
       "      <th>16</th>\n",
       "      <td>Blue</td>\n",
       "      <td>400000</td>\n",
       "      <td>230</td>\n",
       "      <td>type B</td>\n",
       "    </tr>\n",
       "    <tr>\n",
       "      <th>17</th>\n",
       "      <td>Red</td>\n",
       "      <td>350000</td>\n",
       "      <td>280</td>\n",
       "      <td>type B</td>\n",
       "    </tr>\n",
       "  </tbody>\n",
       "</table>\n",
       "</div>"
      ],
      "text/plain": [
       "    colour   sales  transactions product\n",
       "0   Yellow  100000           100  type A\n",
       "1    Black  150000           150  type A\n",
       "2     Blue   80000           820  type A\n",
       "3      Red   90000           920  type A\n",
       "4   Yellow  200000           230  type A\n",
       "5    Black  145000           120  type A\n",
       "6     Blue  120000            70  type A\n",
       "7      Red  300000           250  type A\n",
       "8   Yellow  250000           250  type A\n",
       "9    Black  200000           110  type B\n",
       "10    Blue  160000           130  type B\n",
       "11     Red   90000           860  type B\n",
       "12  Yellow   90100           980  type B\n",
       "13   Black  150000           300  type B\n",
       "14    Blue  142000           150  type B\n",
       "15     Red  130000           170  type B\n",
       "16    Blue  400000           230  type B\n",
       "17     Red  350000           280  type B"
      ]
     },
     "execution_count": 5,
     "metadata": {},
     "output_type": "execute_result"
    }
   ],
   "source": [
    "data_sales"
   ]
  },
  {
   "cell_type": "code",
   "execution_count": 6,
   "metadata": {},
   "outputs": [
    {
     "data": {
      "text/plain": [
       "<seaborn.axisgrid.FacetGrid at 0x1eb859ccaf0>"
      ]
     },
     "execution_count": 6,
     "metadata": {},
     "output_type": "execute_result"
    },
    {
     "data": {
      "image/png": "[encoded data removed]",
      "text/plain": [
       "<Figure size 608.125x360 with 1 Axes>"
      ]
     },
     "metadata": {
      "needs_background": "light"
     },
     "output_type": "display_data"
    }
   ],
   "source": [
    "sns.catplot(x=\"colour\", y=\"transactions\", kind=\"bar\", hue=\"product\", aspect=1.5, data=data_sales)"
   ]
  },
  {
   "cell_type": "code",
   "execution_count": 7,
   "metadata": {},
   "outputs": [
    {
     "data": {
      "text/plain": [
       "<seaborn.axisgrid.FacetGrid at 0x1eb856e3760>"
      ]
     },
     "execution_count": 7,
     "metadata": {},
     "output_type": "execute_result"
    },
    {
     "data": {
      "image/png": "[encoded data removed]",
      "text/plain": [
       "<Figure size 608.125x360 with 1 Axes>"
      ]
     },
     "metadata": {
      "needs_background": "light"
     },
     "output_type": "display_data"
    }
   ],
   "source": [
    "sns.catplot(x=\"colour\", y=\"sales\", kind=\"bar\", hue=\"product\", aspect=1.5, data=data_sales)"
   ]
  },
  {
   "cell_type": "code",
   "execution_count": 8,
   "metadata": {},
   "outputs": [
    {
     "data": {
      "image/png": "[encoded data removed]",
      "text/plain": [
       "<Figure size 576x288 with 4 Axes>"
      ]
     },
     "metadata": {
      "needs_background": "light"
     },
     "output_type": "display_data"
    }
   ],
   "source": [
    "graph = sns.FacetGrid(data_sales, col=\"colour\", height=4, hue=\"product\",aspect=.5)\n",
    "graph.map(plt.scatter, \"transactions\", \"sales\");"
   ]
  },
  {
   "cell_type": "code",
   "execution_count": 9,
   "metadata": {},
   "outputs": [
    {
     "name": "stdout",
     "output_type": "stream",
     "text": [
      "<class 'pandas.core.groupby.generic.DataFrameGroupBy'>\n"
     ]
    }
   ],
   "source": [
    "# Split: Groupby the column 'colour'\n",
    "\n",
    "data_gby = data_sales.groupby('colour')\n",
    "print(type(data_gby))"
   ]
  },
  {
   "cell_type": "code",
   "execution_count": 10,
   "metadata": {},
   "outputs": [
    {
     "data": {
      "text/plain": [
       "{'Black': [1, 5, 9, 13], 'Blue': [2, 6, 10, 14, 16], 'Red': [3, 7, 11, 15, 17], 'Yellow': [0, 4, 8, 12]}"
      ]
     },
     "execution_count": 10,
     "metadata": {},
     "output_type": "execute_result"
    }
   ],
   "source": [
    "#  lets check the names of the groups\n",
    "\n",
    "data_gby.groups"
   ]
  },
  {
   "cell_type": "code",
   "execution_count": 11,
   "metadata": {},
   "outputs": [
    {
     "name": "stdout",
     "output_type": "stream",
     "text": [
      "GroupName:  Black\n",
      "   colour   sales  transactions product\n",
      "1   Black  150000           150  type A\n",
      "5   Black  145000           120  type A\n",
      "9   Black  200000           110  type B\n",
      "13  Black  150000           300  type B\n",
      "-------------------------------------------\n",
      "GroupName:  Blue\n",
      "   colour   sales  transactions product\n",
      "2    Blue   80000           820  type A\n",
      "6    Blue  120000            70  type A\n",
      "10   Blue  160000           130  type B\n",
      "14   Blue  142000           150  type B\n",
      "16   Blue  400000           230  type B\n",
      "-------------------------------------------\n",
      "GroupName:  Red\n",
      "   colour   sales  transactions product\n",
      "3     Red   90000           920  type A\n",
      "7     Red  300000           250  type A\n",
      "11    Red   90000           860  type B\n",
      "15    Red  130000           170  type B\n",
      "17    Red  350000           280  type B\n",
      "-------------------------------------------\n",
      "GroupName:  Yellow\n",
      "    colour   sales  transactions product\n",
      "0   Yellow  100000           100  type A\n",
      "4   Yellow  200000           230  type A\n",
      "8   Yellow  250000           250  type A\n",
      "12  Yellow   90100           980  type B\n",
      "-------------------------------------------\n"
     ]
    }
   ],
   "source": [
    "### 'key' is the name of the group and 'value' is the segmented rows from the original DataFrame.\n",
    "\n",
    "for key, value in data_gby: \n",
    "    print('GroupName: ',key)\n",
    "    print(value)\n",
    "    print('-------------------------------------------')"
   ]
  },
  {
   "cell_type": "code",
   "execution_count": 12,
   "metadata": {},
   "outputs": [],
   "source": [
    "data_colour=data_sales.groupby('colour').sum()"
   ]
  },
  {
   "cell_type": "code",
   "execution_count": 13,
   "metadata": {},
   "outputs": [
    {
     "name": "stdout",
     "output_type": "stream",
     "text": [
      "         sales  transactions\n",
      "colour                      \n",
      "Black   645000           680\n",
      "Blue    902000          1400\n",
      "Red     960000          2480\n",
      "Yellow  640100          1560\n"
     ]
    }
   ],
   "source": [
    "\n",
    "print(data_colour)"
   ]
  },
  {
   "cell_type": "code",
   "execution_count": 14,
   "metadata": {},
   "outputs": [],
   "source": [
    "def create_dual(data_1,data_2,data_x):\n",
    "    fig, ax1 = plt.subplots(figsize=(8, 8))\n",
    "\n",
    "    color = 'tab:red'\n",
    "    ax1.set_ylabel('sales', color=color)\n",
    "    ax1.bar(data_x, data_1, color=color)\n",
    "    ax1.tick_params(axis='y', labelcolor=color)\n",
    "    ax1.tick_params(axis='x', labelrotation=90.0)\n",
    "\n",
    "    ax2 = ax1.twinx()                            # instantiate a second axes that shares the same x-axis\n",
    "    \n",
    "    \n",
    "    color = 'tab:cyan'\n",
    "    ax2.set_ylabel('transactions', color=color)  # we already handled the x-label with ax1\n",
    "    ax2.plot(data_x, data_2, color=color)\n",
    "    ax2.tick_params(axis='y', labelcolor=color)\n",
    "\n",
    "    #fig.tight_layout()                          # otherwise the right y-label is slightly clipped\n",
    "    plt.show()"
   ]
  },
  {
   "cell_type": "code",
   "execution_count": 15,
   "metadata": {},
   "outputs": [],
   "source": [
    "y_1 = data_colour['transactions']\n",
    "y_2 = data_colour['sales']\n",
    "data_x= data_colour.index"
   ]
  },
  {
   "cell_type": "code",
   "execution_count": 16,
   "metadata": {},
   "outputs": [
    {
     "data": {
      "image/png": "[encoded data removed]",
      "text/plain": [
       "<Figure size 576x576 with 2 Axes>"
      ]
     },
     "metadata": {},
     "output_type": "display_data"
    }
   ],
   "source": [
    "create_dual(y_1,y_2,data_x)    ## Function call"
   ]
  },
  {
   "cell_type": "code",
   "execution_count": 17,
   "metadata": {},
   "outputs": [],
   "source": [
    "data_prod_colour_index=data_sales.groupby(['product','colour'], as_index=True).sum()         # Note: as_index=True"
   ]
  },
  {
   "cell_type": "code",
   "execution_count": 18,
   "metadata": {},
   "outputs": [
    {
     "data": {
      "text/html": [
       "<div>\n",
       "<style scoped>\n",
       "    .dataframe tbody tr th:only-of-type {\n",
       "        vertical-align: middle;\n",
       "    }\n",
       "\n",
       "    .dataframe tbody tr th {\n",
       "        vertical-align: top;\n",
       "    }\n",
       "\n",
       "    .dataframe thead th {\n",
       "        text-align: right;\n",
       "    }\n",
       "</style>\n",
       "<table border=\"1\" class=\"dataframe\">\n",
       "  <thead>\n",
       "    <tr style=\"text-align: right;\">\n",
       "      <th></th>\n",
       "      <th></th>\n",
       "      <th>sales</th>\n",
       "      <th>transactions</th>\n",
       "    </tr>\n",
       "    <tr>\n",
       "      <th>product</th>\n",
       "      <th>colour</th>\n",
       "      <th></th>\n",
       "      <th></th>\n",
       "    </tr>\n",
       "  </thead>\n",
       "  <tbody>\n",
       "    <tr>\n",
       "      <th rowspan=\"4\" valign=\"top\">type A</th>\n",
       "      <th>Black</th>\n",
       "      <td>295000</td>\n",
       "      <td>270</td>\n",
       "    </tr>\n",
       "    <tr>\n",
       "      <th>Blue</th>\n",
       "      <td>200000</td>\n",
       "      <td>890</td>\n",
       "    </tr>\n",
       "    <tr>\n",
       "      <th>Red</th>\n",
       "      <td>390000</td>\n",
       "      <td>1170</td>\n",
       "    </tr>\n",
       "    <tr>\n",
       "      <th>Yellow</th>\n",
       "      <td>550000</td>\n",
       "      <td>580</td>\n",
       "    </tr>\n",
       "    <tr>\n",
       "      <th rowspan=\"4\" valign=\"top\">type B</th>\n",
       "      <th>Black</th>\n",
       "      <td>350000</td>\n",
       "      <td>410</td>\n",
       "    </tr>\n",
       "    <tr>\n",
       "      <th>Blue</th>\n",
       "      <td>702000</td>\n",
       "      <td>510</td>\n",
       "    </tr>\n",
       "    <tr>\n",
       "      <th>Red</th>\n",
       "      <td>570000</td>\n",
       "      <td>1310</td>\n",
       "    </tr>\n",
       "    <tr>\n",
       "      <th>Yellow</th>\n",
       "      <td>90100</td>\n",
       "      <td>980</td>\n",
       "    </tr>\n",
       "  </tbody>\n",
       "</table>\n",
       "</div>"
      ],
      "text/plain": [
       "                 sales  transactions\n",
       "product colour                      \n",
       "type A  Black   295000           270\n",
       "        Blue    200000           890\n",
       "        Red     390000          1170\n",
       "        Yellow  550000           580\n",
       "type B  Black   350000           410\n",
       "        Blue    702000           510\n",
       "        Red     570000          1310\n",
       "        Yellow   90100           980"
      ]
     },
     "execution_count": 18,
     "metadata": {},
     "output_type": "execute_result"
    }
   ],
   "source": [
    "data_prod_colour_index"
   ]
  },
  {
   "cell_type": "code",
   "execution_count": 19,
   "metadata": {},
   "outputs": [
    {
     "data": {
      "text/html": [
       "<div>\n",
       "<style scoped>\n",
       "    .dataframe tbody tr th:only-of-type {\n",
       "        vertical-align: middle;\n",
       "    }\n",
       "\n",
       "    .dataframe tbody tr th {\n",
       "        vertical-align: top;\n",
       "    }\n",
       "\n",
       "    .dataframe thead th {\n",
       "        text-align: right;\n",
       "    }\n",
       "</style>\n",
       "<table border=\"1\" class=\"dataframe\">\n",
       "  <thead>\n",
       "    <tr style=\"text-align: right;\">\n",
       "      <th></th>\n",
       "      <th>product</th>\n",
       "      <th>colour</th>\n",
       "      <th>sales</th>\n",
       "      <th>transactions</th>\n",
       "    </tr>\n",
       "  </thead>\n",
       "  <tbody>\n",
       "    <tr>\n",
       "      <th>0</th>\n",
       "      <td>type A</td>\n",
       "      <td>Black</td>\n",
       "      <td>295000</td>\n",
       "      <td>270</td>\n",
       "    </tr>\n",
       "    <tr>\n",
       "      <th>1</th>\n",
       "      <td>type A</td>\n",
       "      <td>Blue</td>\n",
       "      <td>200000</td>\n",
       "      <td>890</td>\n",
       "    </tr>\n",
       "    <tr>\n",
       "      <th>2</th>\n",
       "      <td>type A</td>\n",
       "      <td>Red</td>\n",
       "      <td>390000</td>\n",
       "      <td>1170</td>\n",
       "    </tr>\n",
       "    <tr>\n",
       "      <th>3</th>\n",
       "      <td>type A</td>\n",
       "      <td>Yellow</td>\n",
       "      <td>550000</td>\n",
       "      <td>580</td>\n",
       "    </tr>\n",
       "    <tr>\n",
       "      <th>4</th>\n",
       "      <td>type B</td>\n",
       "      <td>Black</td>\n",
       "      <td>350000</td>\n",
       "      <td>410</td>\n",
       "    </tr>\n",
       "    <tr>\n",
       "      <th>5</th>\n",
       "      <td>type B</td>\n",
       "      <td>Blue</td>\n",
       "      <td>702000</td>\n",
       "      <td>510</td>\n",
       "    </tr>\n",
       "    <tr>\n",
       "      <th>6</th>\n",
       "      <td>type B</td>\n",
       "      <td>Red</td>\n",
       "      <td>570000</td>\n",
       "      <td>1310</td>\n",
       "    </tr>\n",
       "    <tr>\n",
       "      <th>7</th>\n",
       "      <td>type B</td>\n",
       "      <td>Yellow</td>\n",
       "      <td>90100</td>\n",
       "      <td>980</td>\n",
       "    </tr>\n",
       "  </tbody>\n",
       "</table>\n",
       "</div>"
      ],
      "text/plain": [
       "  product  colour   sales  transactions\n",
       "0  type A   Black  295000           270\n",
       "1  type A    Blue  200000           890\n",
       "2  type A     Red  390000          1170\n",
       "3  type A  Yellow  550000           580\n",
       "4  type B   Black  350000           410\n",
       "5  type B    Blue  702000           510\n",
       "6  type B     Red  570000          1310\n",
       "7  type B  Yellow   90100           980"
      ]
     },
     "execution_count": 19,
     "metadata": {},
     "output_type": "execute_result"
    }
   ],
   "source": [
    "data_prod_colour_Noindex = data_sales.groupby(['product','colour'],as_index=False).sum()\n",
    "\n",
    "data_prod_colour_Noindex"
   ]
  },
  {
   "cell_type": "code",
   "execution_count": 20,
   "metadata": {},
   "outputs": [],
   "source": [
    "data_sales['product*colour']=data_sales['product']+'-'+data_sales['colour']"
   ]
  },
  {
   "cell_type": "code",
   "execution_count": 21,
   "metadata": {},
   "outputs": [],
   "source": [
    "data_concat= data_sales.groupby('product*colour',as_index=True).sum()"
   ]
  },
  {
   "cell_type": "code",
   "execution_count": 22,
   "metadata": {},
   "outputs": [
    {
     "data": {
      "text/html": [
       "<div>\n",
       "<style scoped>\n",
       "    .dataframe tbody tr th:only-of-type {\n",
       "        vertical-align: middle;\n",
       "    }\n",
       "\n",
       "    .dataframe tbody tr th {\n",
       "        vertical-align: top;\n",
       "    }\n",
       "\n",
       "    .dataframe thead th {\n",
       "        text-align: right;\n",
       "    }\n",
       "</style>\n",
       "<table border=\"1\" class=\"dataframe\">\n",
       "  <thead>\n",
       "    <tr style=\"text-align: right;\">\n",
       "      <th></th>\n",
       "      <th>sales</th>\n",
       "      <th>transactions</th>\n",
       "    </tr>\n",
       "    <tr>\n",
       "      <th>product*colour</th>\n",
       "      <th></th>\n",
       "      <th></th>\n",
       "    </tr>\n",
       "  </thead>\n",
       "  <tbody>\n",
       "    <tr>\n",
       "      <th>type A-Black</th>\n",
       "      <td>295000</td>\n",
       "      <td>270</td>\n",
       "    </tr>\n",
       "    <tr>\n",
       "      <th>type A-Blue</th>\n",
       "      <td>200000</td>\n",
       "      <td>890</td>\n",
       "    </tr>\n",
       "    <tr>\n",
       "      <th>type A-Red</th>\n",
       "      <td>390000</td>\n",
       "      <td>1170</td>\n",
       "    </tr>\n",
       "    <tr>\n",
       "      <th>type A-Yellow</th>\n",
       "      <td>550000</td>\n",
       "      <td>580</td>\n",
       "    </tr>\n",
       "    <tr>\n",
       "      <th>type B-Black</th>\n",
       "      <td>350000</td>\n",
       "      <td>410</td>\n",
       "    </tr>\n",
       "    <tr>\n",
       "      <th>type B-Blue</th>\n",
       "      <td>702000</td>\n",
       "      <td>510</td>\n",
       "    </tr>\n",
       "    <tr>\n",
       "      <th>type B-Red</th>\n",
       "      <td>570000</td>\n",
       "      <td>1310</td>\n",
       "    </tr>\n",
       "    <tr>\n",
       "      <th>type B-Yellow</th>\n",
       "      <td>90100</td>\n",
       "      <td>980</td>\n",
       "    </tr>\n",
       "  </tbody>\n",
       "</table>\n",
       "</div>"
      ],
      "text/plain": [
       "                 sales  transactions\n",
       "product*colour                      \n",
       "type A-Black    295000           270\n",
       "type A-Blue     200000           890\n",
       "type A-Red      390000          1170\n",
       "type A-Yellow   550000           580\n",
       "type B-Black    350000           410\n",
       "type B-Blue     702000           510\n",
       "type B-Red      570000          1310\n",
       "type B-Yellow    90100           980"
      ]
     },
     "execution_count": 22,
     "metadata": {},
     "output_type": "execute_result"
    }
   ],
   "source": [
    "data_concat"
   ]
  },
  {
   "cell_type": "code",
   "execution_count": 23,
   "metadata": {},
   "outputs": [
    {
     "data": {
      "text/plain": [
       "['type A-Black',\n",
       " 'type A-Blue',\n",
       " 'type A-Red',\n",
       " 'type A-Yellow',\n",
       " 'type B-Black',\n",
       " 'type B-Blue',\n",
       " 'type B-Red',\n",
       " 'type B-Yellow']"
      ]
     },
     "execution_count": 23,
     "metadata": {},
     "output_type": "execute_result"
    }
   ],
   "source": [
    "list(data_concat.index)"
   ]
  },
  {
   "cell_type": "code",
   "execution_count": 24,
   "metadata": {},
   "outputs": [
    {
     "data": {
      "image/png": "[encoded data removed]",
      "text/plain": [
       "<Figure size 576x576 with 2 Axes>"
      ]
     },
     "metadata": {},
     "output_type": "display_data"
    }
   ],
   "source": [
    "create_dual(data_concat['sales'],data_concat['transactions'],data_concat.index)"
   ]
  },
  {
   "cell_type": "code",
   "execution_count": null,
   "metadata": {},
   "outputs": [],
   "source": []
  }
 ],
 "metadata": {
  "kernelspec": {
   "display_name": "Python 3",
   "language": "python",
   "name": "python3"
  },
  "language_info": {
   "codemirror_mode": {
    "name": "ipython",
    "version": 3
   },
   "file_extension": ".py",
   "mimetype": "text/x-python",
   "name": "python",
   "nbconvert_exporter": "python",
   "pygments_lexer": "ipython3",
   "version": "3.8.6"
  }
 },
 "nbformat": 4,
 "nbformat_minor": 4
}
