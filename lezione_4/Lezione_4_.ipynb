{
 "cells": [
  {
   "cell_type": "markdown",
   "metadata": {},
   "source": [
    "# Lezione 4"
   ]
  },
  {
   "cell_type": "code",
   "execution_count": 9,
   "metadata": {},
   "outputs": [
    {
     "name": "stdout",
     "output_type": "stream",
     "text": [
      "   Anno  Codice Regione Descrizione Regione  Codice Azienda  Tipo Azienda  \\\n",
      "0  2010              10            PIEMONTE             201             1   \n",
      "1  2010              10            PIEMONTE             201             1   \n",
      "2  2010              10            PIEMONTE             201             1   \n",
      "3  2010              10            PIEMONTE             201             1   \n",
      "4  2010              10            PIEMONTE             201             1   \n",
      "\n",
      "   Codice struttura Subcodice      Denominazione Struttura/Stabilimento  \\\n",
      "0             10007            OSPEDALE MARTINI                           \n",
      "1             10007            OSPEDALE MARTINI                           \n",
      "2             10007            OSPEDALE MARTINI                           \n",
      "3             10007            OSPEDALE MARTINI                           \n",
      "4             10007            OSPEDALE MARTINI                           \n",
      "\n",
      "                                  Indirizzo  Codice Comune  ...  \\\n",
      "0  VIA TOFANE                                         1272  ...   \n",
      "1  VIA TOFANE                                         1272  ...   \n",
      "2  VIA TOFANE                                         1272  ...   \n",
      "3  VIA TOFANE                                         1272  ...   \n",
      "4  VIA TOFANE                                         1272  ...   \n",
      "\n",
      "    Descrizione tipo struttura Codice disciplina  \\\n",
      "0  Ospedale a gestione diretta                 2   \n",
      "1  Ospedale a gestione diretta                 8   \n",
      "2  Ospedale a gestione diretta                 9   \n",
      "3  Ospedale a gestione diretta                21   \n",
      "4  Ospedale a gestione diretta                26   \n",
      "\n",
      "                     Descrizione disciplina Tipo di Disciplina  N° Reparti  \\\n",
      "0  DAY HOSPITAL                                          ACUTI           2   \n",
      "1  CARDIOLOGIA                                           ACUTI           1   \n",
      "2  CHIRURGIA GENERALE                                    ACUTI           1   \n",
      "3  GERIATRIA                                             ACUTI           1   \n",
      "4  MEDICINA GENERALE                                     ACUTI           2   \n",
      "\n",
      "  Posti letto degenza ordinaria Posti letto degenza a pagamento  \\\n",
      "0                             0                               0   \n",
      "1                            12                               0   \n",
      "2                            20                               0   \n",
      "3                            14                               0   \n",
      "4                            42                               0   \n",
      "\n",
      "   Posti letto Day Hospital  Posti letto Day Surgery  Totale posti letto  \n",
      "0                        15                        0                  15  \n",
      "1                         0                        0                  12  \n",
      "2                         0                        0                  20  \n",
      "3                         0                        0                  14  \n",
      "4                         0                        0                  42  \n",
      "\n",
      "[5 rows x 23 columns]\n",
      "Denominazione Struttura/Stabilimento\n",
      " MADONNA DEL SOCCORSO - S.BENEDETTO         216\n",
      " OSPEDALE VENEZIALE- ISERNIA                137\n",
      "'CASA DI CURA PROF.DOTT. LUIGI COBELLIS'     99\n",
      "'CENTRO EBOLITANO DI MEDICINA FISICA E R    260\n",
      "'HYPPOCRATICA S.P.A. CASA DI CURA VILLA      80\n",
      "                                           ... \n",
      "VILLA PAPA GIOVANNI XXIII                   145\n",
      "VILLA PINETA S.R.L.                         100\n",
      "VILLA SALUS S.R.L.                           25\n",
      "VILLA SERENA                                147\n",
      "ismett                                       85\n",
      "Name: Totale posti letto, Length: 1320, dtype: int64\n",
      "count    1320.000000\n",
      "mean      167.104545\n",
      "std       191.253464\n",
      "min         1.000000\n",
      "25%        56.750000\n",
      "50%       104.500000\n",
      "75%       198.000000\n",
      "max      1591.000000\n",
      "Name: Totale posti letto, dtype: float64\n"
     ]
    },
    {
     "data": {
      "image/png": "[encoded data removed]",
      "text/plain": [
       "<Figure size 432x288 with 1 Axes>"
      ]
     },
     "metadata": {
      "needs_background": "light"
     },
     "output_type": "display_data"
    }
   ],
   "source": [
    "import pandas as pd\n",
    "import matplotlib.pyplot as plt\n",
    "import requests\n",
    "url = 'http://www.dati.salute.gov.it/imgs/C_17_dataset_96_0_upFile.csv'\n",
    "\n",
    "csv=pd.read_csv('C_17_dataset_96_0_upFile.csv', sep=';', encoding='unicode_escape')\n",
    "\n",
    "print(csv.head()) # ci ritorna le prime 5 righe\n",
    "csv.dtypes # ci ritorna righe e colonne\n",
    "\n",
    "# esempio visto alla lezione 3\n",
    "csv_2014 = csv[csv['Anno']==2014]\n",
    "# totale dei posti letto, seleziono una colonna soltanto\n",
    "beds_2014 = csv_2014['Totale posti letto']\n",
    "beds_2014 = csv_2014.groupby('Denominazione Struttura/Stabilimento')['Totale posti letto'].sum()\n",
    "print(beds_2014)\n",
    "print(beds_2014.describe())\n",
    "# istogramma\n",
    "histogram = beds_2014.hist(bins=50)\n",
    "histogram.set_title('Letti per ospedale 2014')\n",
    "histogram.set_xlabel('numero di letti')\n",
    "histogram.set_ylabel('numero di oespedali')\n",
    "plt.show()"
   ]
  },
  {
   "cell_type": "markdown",
   "metadata": {},
   "source": [
    "## Distribuzione variaibile Posti letto day hospital"
   ]
  },
  {
   "cell_type": "code",
   "execution_count": 11,
   "metadata": {},
   "outputs": [
    {
     "data": {
      "image/png": "[encoded data removed]",
      "text/plain": [
       "<Figure size 432x288 with 1 Axes>"
      ]
     },
     "metadata": {
      "needs_background": "light"
     },
     "output_type": "display_data"
    }
   ],
   "source": [
    "pldo2014 = csv_2014['Posti letto Day Hospital']\n",
    "histogram = pldo2014.hist(bins=20)\n",
    "plt.show()"
   ]
  },
  {
   "cell_type": "code",
   "execution_count": 13,
   "metadata": {},
   "outputs": [
    {
     "data": {
      "text/plain": [
       "count    11696.000000\n",
       "mean         1.313526\n",
       "std          2.982797\n",
       "min          0.000000\n",
       "25%          0.000000\n",
       "50%          0.000000\n",
       "75%          1.000000\n",
       "max         68.000000\n",
       "Name: Posti letto Day Hospital, dtype: float64"
      ]
     },
     "execution_count": 13,
     "metadata": {},
     "output_type": "execute_result"
    }
   ],
   "source": [
    "pldo2014.describe()"
   ]
  },
  {
   "cell_type": "code",
   "execution_count": 17,
   "metadata": {},
   "outputs": [
    {
     "name": "stdout",
     "output_type": "stream",
     "text": [
      "11696\n"
     ]
    }
   ],
   "source": [
    "from scipy import stats\n",
    "import numpy as no\n",
    "# z_scores dà un valore numerico che può valere o più o meno di 3, z score è una normalizzazione\n",
    "z_scores = stats.zscore(pldo2014)\n",
    "print(len(z_scores))"
   ]
  },
  {
   "cell_type": "code",
   "execution_count": null,
   "metadata": {},
   "outputs": [],
   "source": []
  },
  {
   "cell_type": "code",
   "execution_count": null,
   "metadata": {},
   "outputs": [],
   "source": []
  }
 ],
 "metadata": {
  "kernelspec": {
   "display_name": "Python 3",
   "language": "python",
   "name": "python3"
  },
  "language_info": {
   "codemirror_mode": {
    "name": "ipython",
    "version": 3
   },
   "file_extension": ".py",
   "mimetype": "text/x-python",
   "name": "python",
   "nbconvert_exporter": "python",
   "pygments_lexer": "ipython3",
   "version": "3.8.6"
  }
 },
 "nbformat": 4,
 "nbformat_minor": 4
}
