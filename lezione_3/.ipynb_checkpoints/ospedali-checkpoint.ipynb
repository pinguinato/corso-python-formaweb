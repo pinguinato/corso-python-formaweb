{
 "cells": [
  {
   "cell_type": "markdown",
   "metadata": {},
   "source": [
    "**Nota bene: richiede il file C_17_dataset_96_0_upFile.csv nella stessa cartella del notebook**\n",
    "\n",
    "http://www.dati.salute.gov.it/imgs/C_17_dataset_96_0_upFile.csv"
   ]
  },
  {
   "cell_type": "code",
   "execution_count": 25,
   "metadata": {},
   "outputs": [],
   "source": [
    "import pandas as pd\n",
    "import matplotlib.pyplot as plt\n",
    "import requests\n",
    "\n",
    "csv=pd.read_csv('C_17_dataset_96_0_upFile.csv', sep=';',encoding='unicode_escape')"
   ]
  },
  {
   "cell_type": "markdown",
   "metadata": {},
   "source": [
    "# Ripetizione di quello visto nella scorsa lezione"
   ]
  },
  {
   "cell_type": "markdown",
   "metadata": {},
   "source": [
    "vediamo i primi 5 record e i tipi di dato"
   ]
  },
  {
   "cell_type": "code",
   "execution_count": 26,
   "metadata": {},
   "outputs": [
    {
     "name": "stdout",
     "output_type": "stream",
     "text": [
      "   Anno  Codice Regione Descrizione Regione  Codice Azienda  Tipo Azienda  \\\n",
      "0  2010              10            PIEMONTE             201             1   \n",
      "1  2010              10            PIEMONTE             201             1   \n",
      "2  2010              10            PIEMONTE             201             1   \n",
      "3  2010              10            PIEMONTE             201             1   \n",
      "4  2010              10            PIEMONTE             201             1   \n",
      "\n",
      "   Codice struttura Subcodice      Denominazione Struttura/Stabilimento  \\\n",
      "0             10007            OSPEDALE MARTINI                           \n",
      "1             10007            OSPEDALE MARTINI                           \n",
      "2             10007            OSPEDALE MARTINI                           \n",
      "3             10007            OSPEDALE MARTINI                           \n",
      "4             10007            OSPEDALE MARTINI                           \n",
      "\n",
      "                                  Indirizzo  Codice Comune  ...  \\\n",
      "0  VIA TOFANE                                         1272  ...   \n",
      "1  VIA TOFANE                                         1272  ...   \n",
      "2  VIA TOFANE                                         1272  ...   \n",
      "3  VIA TOFANE                                         1272  ...   \n",
      "4  VIA TOFANE                                         1272  ...   \n",
      "\n",
      "    Descrizione tipo struttura Codice disciplina  \\\n",
      "0  Ospedale a gestione diretta                 2   \n",
      "1  Ospedale a gestione diretta                 8   \n",
      "2  Ospedale a gestione diretta                 9   \n",
      "3  Ospedale a gestione diretta                21   \n",
      "4  Ospedale a gestione diretta                26   \n",
      "\n",
      "                     Descrizione disciplina Tipo di Disciplina  N° Reparti  \\\n",
      "0  DAY HOSPITAL                                          ACUTI           2   \n",
      "1  CARDIOLOGIA                                           ACUTI           1   \n",
      "2  CHIRURGIA GENERALE                                    ACUTI           1   \n",
      "3  GERIATRIA                                             ACUTI           1   \n",
      "4  MEDICINA GENERALE                                     ACUTI           2   \n",
      "\n",
      "  Posti letto degenza ordinaria Posti letto degenza a pagamento  \\\n",
      "0                             0                               0   \n",
      "1                            12                               0   \n",
      "2                            20                               0   \n",
      "3                            14                               0   \n",
      "4                            42                               0   \n",
      "\n",
      "   Posti letto Day Hospital  Posti letto Day Surgery  Totale posti letto  \n",
      "0                        15                        0                  15  \n",
      "1                         0                        0                  12  \n",
      "2                         0                        0                  20  \n",
      "3                         0                        0                  14  \n",
      "4                         0                        0                  42  \n",
      "\n",
      "[5 rows x 23 columns]\n"
     ]
    },
    {
     "data": {
      "text/plain": [
       "Anno                                      int64\n",
       "Codice Regione                            int64\n",
       "Descrizione Regione                      object\n",
       "Codice Azienda                            int64\n",
       "Tipo Azienda                              int64\n",
       "Codice struttura                          int64\n",
       "Subcodice                                object\n",
       "Denominazione Struttura/Stabilimento     object\n",
       "Indirizzo                                object\n",
       "Codice Comune                             int64\n",
       "Comune                                   object\n",
       "Sigla Provincia                          object\n",
       "Codice tipo struttura                   float64\n",
       "Descrizione tipo struttura               object\n",
       "Codice disciplina                         int64\n",
       "Descrizione disciplina                   object\n",
       "Tipo di Disciplina                       object\n",
       "N° Reparti                                int64\n",
       "Posti letto degenza ordinaria             int64\n",
       "Posti letto degenza a pagamento           int64\n",
       "Posti letto Day Hospital                  int64\n",
       "Posti letto Day Surgery                   int64\n",
       "Totale posti letto                        int64\n",
       "dtype: object"
      ]
     },
     "execution_count": 26,
     "metadata": {},
     "output_type": "execute_result"
    }
   ],
   "source": [
    "print(csv.head())\n",
    "csv.dtypes"
   ]
  },
  {
   "cell_type": "code",
   "execution_count": 27,
   "metadata": {},
   "outputs": [
    {
     "name": "stdout",
     "output_type": "stream",
     "text": [
      "       Denominazione Struttura/Stabilimento  Totale posti letto\n",
      "0        MADONNA DEL SOCCORSO - S.BENEDETTO                 216\n",
      "1               OSPEDALE VENEZIALE- ISERNIA                 137\n",
      "2  'CASA DI CURA PROF.DOTT. LUIGI COBELLIS'                  99\n",
      "3  'CENTRO EBOLITANO DI MEDICINA FISICA E R                 260\n",
      "4   'HYPPOCRATICA S.P.A. CASA DI CURA VILLA                  80\n"
     ]
    },
    {
     "data": {
      "text/html": [
       "<div>\n",
       "<style scoped>\n",
       "    .dataframe tbody tr th:only-of-type {\n",
       "        vertical-align: middle;\n",
       "    }\n",
       "\n",
       "    .dataframe tbody tr th {\n",
       "        vertical-align: top;\n",
       "    }\n",
       "\n",
       "    .dataframe thead th {\n",
       "        text-align: right;\n",
       "    }\n",
       "</style>\n",
       "<table border=\"1\" class=\"dataframe\">\n",
       "  <thead>\n",
       "    <tr style=\"text-align: right;\">\n",
       "      <th></th>\n",
       "      <th>Totale posti letto</th>\n",
       "    </tr>\n",
       "  </thead>\n",
       "  <tbody>\n",
       "    <tr>\n",
       "      <th>count</th>\n",
       "      <td>1320.000000</td>\n",
       "    </tr>\n",
       "    <tr>\n",
       "      <th>mean</th>\n",
       "      <td>167.104545</td>\n",
       "    </tr>\n",
       "    <tr>\n",
       "      <th>std</th>\n",
       "      <td>191.253464</td>\n",
       "    </tr>\n",
       "    <tr>\n",
       "      <th>min</th>\n",
       "      <td>1.000000</td>\n",
       "    </tr>\n",
       "    <tr>\n",
       "      <th>25%</th>\n",
       "      <td>56.750000</td>\n",
       "    </tr>\n",
       "    <tr>\n",
       "      <th>50%</th>\n",
       "      <td>104.500000</td>\n",
       "    </tr>\n",
       "    <tr>\n",
       "      <th>75%</th>\n",
       "      <td>198.000000</td>\n",
       "    </tr>\n",
       "    <tr>\n",
       "      <th>max</th>\n",
       "      <td>1591.000000</td>\n",
       "    </tr>\n",
       "  </tbody>\n",
       "</table>\n",
       "</div>"
      ],
      "text/plain": [
       "       Totale posti letto\n",
       "count         1320.000000\n",
       "mean           167.104545\n",
       "std            191.253464\n",
       "min              1.000000\n",
       "25%             56.750000\n",
       "50%            104.500000\n",
       "75%            198.000000\n",
       "max           1591.000000"
      ]
     },
     "execution_count": 27,
     "metadata": {},
     "output_type": "execute_result"
    }
   ],
   "source": [
    "csv2014=csv[csv['Anno']==2014]\n",
    "beds2014=csv2014.groupby('Denominazione Struttura/Stabilimento')['Totale posti letto'].sum()\n",
    "beds2014=beds2014.to_frame().reset_index()\n",
    "print(beds2014.head())\n",
    "beds2014.describe()"
   ]
  },
  {
   "cell_type": "code",
   "execution_count": 28,
   "metadata": {},
   "outputs": [
    {
     "data": {
      "image/png": "[encoded data removed]",
      "text/plain": [
       "<Figure size 432x288 with 1 Axes>"
      ]
     },
     "metadata": {
      "needs_background": "light"
     },
     "output_type": "display_data"
    }
   ],
   "source": [
    "histrogram=beds2014.hist(bins=50)\n",
    "plt.show()"
   ]
  },
  {
   "cell_type": "markdown",
   "metadata": {},
   "source": [
    "# Regione con più ospedali?"
   ]
  },
  {
   "cell_type": "code",
   "execution_count": 29,
   "metadata": {},
   "outputs": [],
   "source": [
    "bedsregion2014=csv2014.groupby('Descrizione Regione')['Totale posti letto'].sum().to_frame().reset_index()\n",
    "bedsregion2014=bedsregion2014.sort_values(bedsregion2014.columns[1], ascending=False)"
   ]
  },
  {
   "cell_type": "code",
   "execution_count": 30,
   "metadata": {},
   "outputs": [
    {
     "name": "stdout",
     "output_type": "stream",
     "text": [
      "      Descrizione Regione  Totale posti letto\n",
      "8               LOMBARDIA               38519\n",
      "6                   LAZIO               21955\n",
      "4          EMILIA ROMAGNA               18876\n",
      "3                CAMPANIA               18504\n",
      "20                 VENETO               18400\n",
      "11               PIEMONTE               17703\n",
      "16                SICILIA               16689\n",
      "14                 PUGLIA               13046\n",
      "17                TOSCANA               12619\n",
      "15               SARDEGNA                5924\n",
      "2                CALABRIA                5857\n",
      "7                 LIGURIA                5833\n",
      "9                  MARCHE                5772\n",
      "5   FRIULI VENEZIA GIULIA                5028\n",
      "0                 ABRUZZO                4483\n",
      "18                 UMBRIA                3164\n",
      "13    PROV. AUTON. TRENTO                2132\n",
      "12   PROV. AUTON. BOLZANO                2106\n",
      "1              BASILICATA                2029\n",
      "10                 MOLISE                1422\n",
      "19          VALLE D`AOSTA                 517\n"
     ]
    }
   ],
   "source": [
    "print(bedsregion2014)"
   ]
  },
  {
   "cell_type": "markdown",
   "metadata": {},
   "source": [
    "# Distribuz della variabile \"Posti letto Day Hospital\""
   ]
  },
  {
   "cell_type": "code",
   "execution_count": 31,
   "metadata": {},
   "outputs": [
    {
     "data": {
      "image/png": "[encoded data removed]",
      "text/plain": [
       "<Figure size 432x288 with 1 Axes>"
      ]
     },
     "metadata": {
      "needs_background": "light"
     },
     "output_type": "display_data"
    }
   ],
   "source": [
    "pldo2014=csv2014['Posti letto Day Hospital']\n",
    "histrogram=pldo2014.hist(bins=20)\n",
    "plt.show()"
   ]
  },
  {
   "cell_type": "markdown",
   "metadata": {},
   "source": [
    "**rimozione degli outlier**: dati che sono oltre 3 deviazioni standard dalla media"
   ]
  },
  {
   "cell_type": "code",
   "execution_count": 32,
   "metadata": {},
   "outputs": [
    {
     "data": {
      "image/png": "[encoded data removed]",
      "text/plain": [
       "<Figure size 432x288 with 1 Axes>"
      ]
     },
     "metadata": {
      "needs_background": "light"
     },
     "output_type": "display_data"
    }
   ],
   "source": [
    "from scipy import stats\n",
    "import numpy as np\n",
    "z_scores=stats.zscore(pldo2014)\n",
    "abs_z_scores=np.abs(z_scores)\n",
    "pldo2014f=pldo2014[abs_z_scores<3]\n",
    "histrogram=pldo2014f.hist(bins=20)\n",
    "plt.show()"
   ]
  },
  {
   "cell_type": "markdown",
   "metadata": {},
   "source": [
    "perché il primo bin è più basso?"
   ]
  },
  {
   "cell_type": "markdown",
   "metadata": {},
   "source": [
    "# Raggruppare i \"Posti letto Day Hospital\" in base al \"Comune\""
   ]
  },
  {
   "cell_type": "code",
   "execution_count": 33,
   "metadata": {},
   "outputs": [],
   "source": [
    "posticomune2014=csv2014.groupby('Comune')['Posti letto Day Hospital'].sum().to_frame().reset_index()\n",
    "posticomune2014=posticomune2014.sort_values(posticomune2014.columns[1], ascending=False)"
   ]
  },
  {
   "cell_type": "code",
   "execution_count": 34,
   "metadata": {},
   "outputs": [
    {
     "name": "stdout",
     "output_type": "stream",
     "text": [
      "                                       Comune  Posti letto Day Hospital\n",
      "593  ROMA                                                          1357\n",
      "451  NAPOLI                                                         800\n",
      "711  TORINO                                                         456\n",
      "495  PALERMO                                                        327\n",
      "412  MILANO                                                         316\n",
      "..                                        ...                       ...\n",
      "100  BOZZOLO                                                          0\n",
      "103  BREBBIA                                                          0\n",
      "577  REZZATO                                                          0\n",
      "107  BRONI                                                            0\n",
      "620  SAN GIORGIO A CREMANO                                            0\n",
      "\n",
      "[776 rows x 2 columns]\n"
     ]
    }
   ],
   "source": [
    "print(posticomune2014)"
   ]
  },
  {
   "cell_type": "markdown",
   "metadata": {},
   "source": [
    "Come si fanno a rimuovere gli zeri dal risultato precedente?"
   ]
  },
  {
   "cell_type": "markdown",
   "metadata": {},
   "source": [
    "# Trovare gli ospedali più capienti in base al \"Tipo di Disciplina\"\n",
    "\n",
    "1. quali sono i tipi di disciplina?\n",
    "2. dato un tipo di disciplina, trovare il corrispondente ospedale più capiente"
   ]
  },
  {
   "cell_type": "code",
   "execution_count": 35,
   "metadata": {},
   "outputs": [],
   "source": [
    "tipididisciplina2014=csv2014.groupby('Tipo di Disciplina')['Totale posti letto'].sum().to_frame().reset_index()"
   ]
  },
  {
   "cell_type": "code",
   "execution_count": 36,
   "metadata": {},
   "outputs": [
    {
     "name": "stdout",
     "output_type": "stream",
     "text": [
      "  Tipo di Disciplina  Totale posti letto\n",
      "0              ACUTI              185253\n",
      "1       LUNGODEGENZA                9309\n",
      "2     RIABILITAZIONE               26016\n"
     ]
    }
   ],
   "source": [
    "print(tipididisciplina2014)"
   ]
  },
  {
   "cell_type": "code",
   "execution_count": 37,
   "metadata": {},
   "outputs": [],
   "source": [
    "acuti2014=csv2014[csv2014['Tipo di Disciplina']=='ACUTI']"
   ]
  },
  {
   "cell_type": "code",
   "execution_count": 38,
   "metadata": {},
   "outputs": [],
   "source": [
    "acuti2014=acuti2014.sort_values(acuti2014.columns[22], ascending=False)"
   ]
  },
  {
   "cell_type": "code",
   "execution_count": 39,
   "metadata": {},
   "outputs": [
    {
     "name": "stdout",
     "output_type": "stream",
     "text": [
      "       Anno  Codice Regione    Descrizione Regione  Codice Azienda  \\\n",
      "52355  2014              60  FRIULI VENEZIA GIULIA             913   \n",
      "53643  2014              80         EMILIA ROMAGNA             908   \n",
      "55579  2014             120                  LAZIO             111   \n",
      "49358  2014              10               PIEMONTE             909   \n",
      "53702  2014              80         EMILIA ROMAGNA             960   \n",
      "...     ...             ...                    ...             ...   \n",
      "53018  2014              80         EMILIA ROMAGNA             105   \n",
      "52997  2014              80         EMILIA ROMAGNA             105   \n",
      "55457  2014             120                  LAZIO             109   \n",
      "50419  2014              30              LOMBARDIA             959   \n",
      "54453  2014             100                 UMBRIA             201   \n",
      "\n",
      "       Tipo Azienda  Codice struttura Subcodice  \\\n",
      "52355             2             60913             \n",
      "53643             2             80908             \n",
      "55579             1            120212       NaN   \n",
      "49358             2             10909        06   \n",
      "53702             2             80960             \n",
      "...             ...               ...       ...   \n",
      "53018             1             80053        01   \n",
      "52997             1             80053        01   \n",
      "55457             1            120002             \n",
      "50419             2             30022             \n",
      "54453             1            100803        01   \n",
      "\n",
      "           Denominazione Struttura/Stabilimento  \\\n",
      "52355  AZ.OSP.UNIV. OSPEDALI RIUNITI DI TRIESTE   \n",
      "53643  AZIENDA OSPEDALIERO-UNIVERSITARIA DI BOL   \n",
      "55579           ISTIT CHIR ORTOP TRAUMATOLOGICO   \n",
      "49358  OSP. OSTETR. GINECOLOG. SANT'ANNA          \n",
      "53702  ISTITUTO ORTOPEDICO RIZZOLI                \n",
      "...                                         ...   \n",
      "53018  OSPEDALE MAGGIORE \"C.A. PIZZARDI\"          \n",
      "52997  OSPEDALE MAGGIORE \"C.A. PIZZARDI\"          \n",
      "55457                 OSPEDALE DI ACQUAPENDENTE   \n",
      "50419  OSPEDALE S. ANTONIO ABATE - CANTU'         \n",
      "54453  STAB.OSPEDALIERO CASTIGLIONE DEL LAGO      \n",
      "\n",
      "                                      Indirizzo  Codice Comune  ...  \\\n",
      "52355  VIA FARNETO N. 3                                  32006  ...   \n",
      "53643  VIA MASSARENTI 9                                  37006  ...   \n",
      "55579  VIA FFAGGIANA 34                                  59011  ...   \n",
      "49358  CORSO SPEZIA, 60                                   1272  ...   \n",
      "53702  VIA PUPILLI 1                                     37006  ...   \n",
      "...                                         ...            ...  ...   \n",
      "53018  LARGO BARTOLO NIGRISOLI 2                         37006  ...   \n",
      "52997  LARGO BARTOLO NIGRISOLI 2                         37006  ...   \n",
      "55457  VIA C. BATTISTI                                   56001  ...   \n",
      "50419  VIA DOMEA 4                                       13041  ...   \n",
      "54453  PIAZZA GRAMSCI, 1                                 54009  ...   \n",
      "\n",
      "                           Descrizione tipo struttura Codice disciplina  \\\n",
      "52355  Azienda Ospedaliera integrata con l'Università                26   \n",
      "53643  Azienda Ospedaliera integrata con l'Università                26   \n",
      "55579                Casa di cura privata accreditata                36   \n",
      "49358  Azienda Ospedaliera integrata con l'Università                37   \n",
      "53702                                  IRCCS pubblico                36   \n",
      "...                                               ...               ...   \n",
      "53018                     Ospedale a gestione diretta                98   \n",
      "52997                     Ospedale a gestione diretta                13   \n",
      "55457                     Ospedale a gestione diretta                26   \n",
      "50419                     Ospedale a gestione diretta                43   \n",
      "54453                     Ospedale a gestione diretta                54   \n",
      "\n",
      "                         Descrizione disciplina Tipo di Disciplina  \\\n",
      "52355  MEDICINA GENERALE                                     ACUTI   \n",
      "53643  MEDICINA GENERALE                                     ACUTI   \n",
      "55579  ORTOPEDIA E TRAUMATOLOGIA                             ACUTI   \n",
      "49358  OSTETRICIA E GINECOLOGIA                              ACUTI   \n",
      "53702  ORTOPEDIA E TRAUMATOLOGIA                             ACUTI   \n",
      "...                                         ...                ...   \n",
      "53018                               DAY SURGERY              ACUTI   \n",
      "52997  CHIRURGIA TORACICA                                    ACUTI   \n",
      "55457  MEDICINA GENERALE                                     ACUTI   \n",
      "50419  UROLOGIA                                              ACUTI   \n",
      "54453  EMODIALISI                                            ACUTI   \n",
      "\n",
      "       N° Reparti Posti letto degenza ordinaria  \\\n",
      "52355           7                           273   \n",
      "53643          13                           269   \n",
      "55579           1                           250   \n",
      "49358          12                           222   \n",
      "53702          15                           234   \n",
      "...           ...                           ...   \n",
      "53018           1                             0   \n",
      "52997           1                             1   \n",
      "55457           1                             1   \n",
      "50419           1                             0   \n",
      "54453           1                             0   \n",
      "\n",
      "      Posti letto degenza a pagamento  Posti letto Day Hospital  \\\n",
      "52355                               0                        13   \n",
      "53643                               0                         1   \n",
      "55579                               0                        15   \n",
      "49358                               0                         7   \n",
      "53702                               8                         7   \n",
      "...                               ...                       ...   \n",
      "53018                               0                         0   \n",
      "52997                               0                         0   \n",
      "55457                               0                         0   \n",
      "50419                               0                         0   \n",
      "54453                               0                         1   \n",
      "\n",
      "       Posti letto Day Surgery  Totale posti letto  \n",
      "52355                        2                 288  \n",
      "53643                        0                 270  \n",
      "55579                        0                 265  \n",
      "49358                       29                 258  \n",
      "53702                        9                 258  \n",
      "...                        ...                 ...  \n",
      "53018                        1                   1  \n",
      "52997                        0                   1  \n",
      "55457                        0                   1  \n",
      "50419                        1                   1  \n",
      "54453                        0                   1  \n",
      "\n",
      "[10527 rows x 23 columns]\n"
     ]
    }
   ],
   "source": [
    "print(acuti2014)"
   ]
  },
  {
   "cell_type": "markdown",
   "metadata": {},
   "source": [
    "Ci sono più reparti per ospedale!"
   ]
  },
  {
   "cell_type": "code",
   "execution_count": 40,
   "metadata": {},
   "outputs": [],
   "source": [
    "acuti2014=csv2014[csv2014['Tipo di Disciplina']=='ACUTI']\n",
    "acuti2014_s=acuti2014.groupby('Denominazione Struttura/Stabilimento')['Totale posti letto'].sum().to_frame().reset_index()\n",
    "acuti2014_s=acuti2014_s.sort_values(acuti2014_s.columns[1], ascending=False)"
   ]
  },
  {
   "cell_type": "code",
   "execution_count": 41,
   "metadata": {},
   "outputs": [
    {
     "name": "stdout",
     "output_type": "stream",
     "text": [
      "          Denominazione Struttura/Stabilimento  Totale posti letto\n",
      "42    AZIENDA OSPEDALIERO-UNIVERSITARIA DI BOL                1494\n",
      "31               AZIENDA OSPEDALIERA DI PADOVA                1462\n",
      "21    AZ. OSPEDALIERO - UNIVERSITARIA CAREGGI                 1308\n",
      "1004                          POLICLINICO U. I                1273\n",
      "1005  POLICLINICO UNIVERSITARIO A. GEMELLI                    1269\n",
      "...                                        ...                 ...\n",
      "90    CASA DI CURA  DOMUS SALUTIS - BRESCIA                      1\n",
      "1118  STABILIMENTO OSPEDALIERO DI ORZINUOVI                      1\n",
      "1124  UNITA' AUTONOMA DI DAY SURGERY DI AVIGLI                   1\n",
      "267   CASA DI CURA VILLA BIANCA - LIMBIATE                       1\n",
      "693   OSPEDALE DI TORRE PELLICE                                  1\n",
      "\n",
      "[1143 rows x 2 columns]\n"
     ]
    }
   ],
   "source": [
    "print(acuti2014_s)"
   ]
  }
 ],
 "metadata": {
  "kernelspec": {
   "display_name": "Python 3",
   "language": "python",
   "name": "python3"
  },
  "language_info": {
   "codemirror_mode": {
    "name": "ipython",
    "version": 3
   },
   "file_extension": ".py",
   "mimetype": "text/x-python",
   "name": "python",
   "nbconvert_exporter": "python",
   "pygments_lexer": "ipython3",
   "version": "3.8.6"
  }
 },
 "nbformat": 4,
 "nbformat_minor": 4
}
